{
 "cells": [
  {
   "cell_type": "code",
   "execution_count": 1,
   "metadata": {},
   "outputs": [],
   "source": [
    "from tensorflow.python.keras.preprocessing.image import ImageDataGenerator\n",
    "from tensorflow.python.keras.models import Sequential\n",
    "from tensorflow.python.keras.layers import Activation, Dropout, Flatten, Dense\n",
    "from tensorflow.python.keras.applications import VGG16\n",
    "from tensorflow.python.keras.optimizers import Adam"
   ]
  },
  {
   "cell_type": "markdown",
   "metadata": {},
   "source": [
    "constants"
   ]
  },
  {
   "cell_type": "code",
   "execution_count": 3,
   "metadata": {},
   "outputs": [],
   "source": [
    "# Размер мини-выборки\n",
    "batch_size = 64\n",
    "# Количество изображений для обучения\n",
    "nb_train_samples = 1770\n",
    "# Количество изображений для проверки\n",
    "nb_validation_samples = 490\n",
    "# Количество изображений для тестирования\n",
    "nb_test_samples = 490"
   ]
  },
  {
   "cell_type": "markdown",
   "metadata": {},
   "source": [
    "network"
   ]
  },
  {
   "cell_type": "code",
   "execution_count": 4,
   "metadata": {},
   "outputs": [],
   "source": [
    "vgg16_net = VGG16(weights='imagenet', \n",
    "                  include_top=False, \n",
    "                  input_shape=(150, 150, 3))"
   ]
  },
  {
   "cell_type": "code",
   "execution_count": 5,
   "metadata": {},
   "outputs": [
    {
     "name": "stdout",
     "output_type": "stream",
     "text": [
      "Model: \"vgg16\"\n",
      "_________________________________________________________________\n",
      "Layer (type)                 Output Shape              Param #   \n",
      "=================================================================\n",
      "input_1 (InputLayer)         [(None, 150, 150, 3)]     0         \n",
      "_________________________________________________________________\n",
      "block1_conv1 (Conv2D)        (None, 150, 150, 64)      1792      \n",
      "_________________________________________________________________\n",
      "block1_conv2 (Conv2D)        (None, 150, 150, 64)      36928     \n",
      "_________________________________________________________________\n",
      "block1_pool (MaxPooling2D)   (None, 75, 75, 64)        0         \n",
      "_________________________________________________________________\n",
      "block2_conv1 (Conv2D)        (None, 75, 75, 128)       73856     \n",
      "_________________________________________________________________\n",
      "block2_conv2 (Conv2D)        (None, 75, 75, 128)       147584    \n",
      "_________________________________________________________________\n",
      "block2_pool (MaxPooling2D)   (None, 37, 37, 128)       0         \n",
      "_________________________________________________________________\n",
      "block3_conv1 (Conv2D)        (None, 37, 37, 256)       295168    \n",
      "_________________________________________________________________\n",
      "block3_conv2 (Conv2D)        (None, 37, 37, 256)       590080    \n",
      "_________________________________________________________________\n",
      "block3_conv3 (Conv2D)        (None, 37, 37, 256)       590080    \n",
      "_________________________________________________________________\n",
      "block3_pool (MaxPooling2D)   (None, 18, 18, 256)       0         \n",
      "_________________________________________________________________\n",
      "block4_conv1 (Conv2D)        (None, 18, 18, 512)       1180160   \n",
      "_________________________________________________________________\n",
      "block4_conv2 (Conv2D)        (None, 18, 18, 512)       2359808   \n",
      "_________________________________________________________________\n",
      "block4_conv3 (Conv2D)        (None, 18, 18, 512)       2359808   \n",
      "_________________________________________________________________\n",
      "block4_pool (MaxPooling2D)   (None, 9, 9, 512)         0         \n",
      "_________________________________________________________________\n",
      "block5_conv1 (Conv2D)        (None, 9, 9, 512)         2359808   \n",
      "_________________________________________________________________\n",
      "block5_conv2 (Conv2D)        (None, 9, 9, 512)         2359808   \n",
      "_________________________________________________________________\n",
      "block5_conv3 (Conv2D)        (None, 9, 9, 512)         2359808   \n",
      "_________________________________________________________________\n",
      "block5_pool (MaxPooling2D)   (None, 4, 4, 512)         0         \n",
      "=================================================================\n",
      "Total params: 14,714,688\n",
      "Trainable params: 0\n",
      "Non-trainable params: 14,714,688\n",
      "_________________________________________________________________\n"
     ]
    }
   ],
   "source": [
    "vgg16_net.trainable = False\n",
    "\n",
    "vgg16_net.summary()"
   ]
  },
  {
   "cell_type": "code",
   "execution_count": 6,
   "metadata": {},
   "outputs": [
    {
     "name": "stdout",
     "output_type": "stream",
     "text": [
      "Model: \"sequential\"\n",
      "_________________________________________________________________\n",
      "Layer (type)                 Output Shape              Param #   \n",
      "=================================================================\n",
      "vgg16 (Model)                (None, 4, 4, 512)         14714688  \n",
      "_________________________________________________________________\n",
      "flatten (Flatten)            (None, 8192)              0         \n",
      "_________________________________________________________________\n",
      "dense (Dense)                (None, 256)               2097408   \n",
      "_________________________________________________________________\n",
      "activation (Activation)      (None, 256)               0         \n",
      "_________________________________________________________________\n",
      "dropout (Dropout)            (None, 256)               0         \n",
      "_________________________________________________________________\n",
      "dense_1 (Dense)              (None, 5)                 1285      \n",
      "_________________________________________________________________\n",
      "activation_1 (Activation)    (None, 5)                 0         \n",
      "=================================================================\n",
      "Total params: 16,813,381\n",
      "Trainable params: 2,098,693\n",
      "Non-trainable params: 14,714,688\n",
      "_________________________________________________________________\n"
     ]
    }
   ],
   "source": [
    "model = Sequential()\n",
    "model.add(vgg16_net)\n",
    "model.add(Flatten())\n",
    "model.add(Dense(256))\n",
    "model.add(Activation('relu'))\n",
    "model.add(Dropout(0.5))\n",
    "model.add(Dense(5))\n",
    "model.add(Activation('sigmoid'))\n",
    "model.summary()"
   ]
  },
  {
   "cell_type": "code",
   "execution_count": 7,
   "metadata": {},
   "outputs": [
    {
     "name": "stdout",
     "output_type": "stream",
     "text": [
      "Model: \"sequential\"\n",
      "_________________________________________________________________\n",
      "Layer (type)                 Output Shape              Param #   \n",
      "=================================================================\n",
      "vgg16 (Model)                (None, 4, 4, 512)         14714688  \n",
      "_________________________________________________________________\n",
      "flatten (Flatten)            (None, 8192)              0         \n",
      "_________________________________________________________________\n",
      "dense (Dense)                (None, 256)               2097408   \n",
      "_________________________________________________________________\n",
      "activation (Activation)      (None, 256)               0         \n",
      "_________________________________________________________________\n",
      "dropout (Dropout)            (None, 256)               0         \n",
      "_________________________________________________________________\n",
      "dense_1 (Dense)              (None, 5)                 1285      \n",
      "_________________________________________________________________\n",
      "activation_1 (Activation)    (None, 5)                 0         \n",
      "=================================================================\n",
      "Total params: 16,813,381\n",
      "Trainable params: 2,098,693\n",
      "Non-trainable params: 14,714,688\n",
      "_________________________________________________________________\n"
     ]
    }
   ],
   "source": [
    "model.summary()\n"
   ]
  },
  {
   "cell_type": "markdown",
   "metadata": {},
   "source": [
    "learning"
   ]
  },
  {
   "cell_type": "code",
   "execution_count": 8,
   "metadata": {},
   "outputs": [],
   "source": [
    "model.compile(loss='categorical_crossentropy',\n",
    "              optimizer=Adam(lr=1e-5), \n",
    "              metrics=['accuracy'])"
   ]
  },
  {
   "cell_type": "code",
   "execution_count": 9,
   "metadata": {},
   "outputs": [],
   "source": [
    "from sklearn.model_selection import train_test_split\n",
    "from PIL import Image\n",
    "train_dir = \"./train/\"\n",
    "val_dir = \"./validation/\"\n",
    "test_dir = \"./test/\"\n",
    "labels = [\"кошка\", \"собака\", \"человек\", \"дерево\", \"цветок\"]\n",
    "img_width = 150\n",
    "img_height = 150\n",
    "batch_size = 64\n",
    "nb_train_samples = 1770\n",
    "nb_validation_samples = 490\n",
    "# backend Tensorflow, channels_last\n",
    "input_shape = (img_width, img_height, 3)\n",
    "#data_train, data_test, labels_train, labels_test = train_test_split(data, labels, test_size=0.20, random_state=42)"
   ]
  },
  {
   "cell_type": "code",
   "execution_count": 10,
   "metadata": {},
   "outputs": [],
   "source": [
    "datagen = ImageDataGenerator(rescale=1. / 255)"
   ]
  },
  {
   "cell_type": "code",
   "execution_count": 11,
   "metadata": {},
   "outputs": [
    {
     "name": "stdout",
     "output_type": "stream",
     "text": [
      "Found 1765 images belonging to 5 classes.\n",
      "Found 485 images belonging to 5 classes.\n",
      "Found 485 images belonging to 5 classes.\n"
     ]
    }
   ],
   "source": [
    "train_generator = datagen.flow_from_directory(\n",
    "    train_dir,\n",
    "    target_size=(img_width, img_height),\n",
    "    batch_size=batch_size,\n",
    "    class_mode='categorical')\n",
    "\n",
    "val_generator = datagen.flow_from_directory(\n",
    "    val_dir,\n",
    "    target_size=(img_width, img_height),\n",
    "    batch_size=batch_size,\n",
    "    class_mode='categorical')\n",
    "\n",
    "test_generator = datagen.flow_from_directory(\n",
    "    test_dir,\n",
    "    target_size=(img_width, img_height),\n",
    "    batch_size=batch_size,\n",
    "    class_mode='categorical')"
   ]
  },
  {
   "cell_type": "code",
   "execution_count": 27,
   "metadata": {},
   "outputs": [
    {
     "name": "stdout",
     "output_type": "stream",
     "text": [
      "Epoch 1/100\n",
      "27/27 [==============================] - 99s 4s/step - loss: 0.5757 - accuracy: 0.8119 - val_loss: 0.7020 - val_accuracy: 0.7299\n",
      "Epoch 2/100\n",
      "27/27 [==============================] - 97s 4s/step - loss: 0.5795 - accuracy: 0.8066 - val_loss: 0.6995 - val_accuracy: 0.7277\n",
      "Epoch 3/100\n",
      "27/27 [==============================] - 97s 4s/step - loss: 0.5507 - accuracy: 0.8125 - val_loss: 0.6950 - val_accuracy: 0.7277\n",
      "Epoch 4/100\n",
      "27/27 [==============================] - 97s 4s/step - loss: 0.5591 - accuracy: 0.8119 - val_loss: 0.6972 - val_accuracy: 0.7366\n",
      "Epoch 5/100\n",
      "27/27 [==============================] - 97s 4s/step - loss: 0.5495 - accuracy: 0.8242 - val_loss: 0.6908 - val_accuracy: 0.7299\n",
      "Epoch 6/100\n",
      "27/27 [==============================] - 97s 4s/step - loss: 0.5218 - accuracy: 0.8236 - val_loss: 0.6896 - val_accuracy: 0.7299\n",
      "Epoch 7/100\n",
      "27/27 [==============================] - 97s 4s/step - loss: 0.5452 - accuracy: 0.8277 - val_loss: 0.6806 - val_accuracy: 0.7344\n",
      "Epoch 8/100\n",
      "27/27 [==============================] - 97s 4s/step - loss: 0.5054 - accuracy: 0.8348 - val_loss: 0.6897 - val_accuracy: 0.7321\n",
      "Epoch 9/100\n",
      "27/27 [==============================] - 97s 4s/step - loss: 0.5156 - accuracy: 0.8342 - val_loss: 0.6882 - val_accuracy: 0.7344\n",
      "Epoch 10/100\n",
      "27/27 [==============================] - 97s 4s/step - loss: 0.4742 - accuracy: 0.8419 - val_loss: 0.6808 - val_accuracy: 0.7344\n",
      "Epoch 11/100\n",
      "27/27 [==============================] - 97s 4s/step - loss: 0.5011 - accuracy: 0.8395 - val_loss: 0.6693 - val_accuracy: 0.7344\n",
      "Epoch 12/100\n",
      "27/27 [==============================] - 97s 4s/step - loss: 0.4901 - accuracy: 0.8372 - val_loss: 0.6676 - val_accuracy: 0.7277\n",
      "Epoch 13/100\n",
      "27/27 [==============================] - 97s 4s/step - loss: 0.4606 - accuracy: 0.8513 - val_loss: 0.6743 - val_accuracy: 0.7411\n",
      "Epoch 14/100\n",
      "27/27 [==============================] - 96s 4s/step - loss: 0.4740 - accuracy: 0.8448 - val_loss: 0.6602 - val_accuracy: 0.7366\n",
      "Epoch 15/100\n",
      "27/27 [==============================] - 97s 4s/step - loss: 0.4768 - accuracy: 0.8560 - val_loss: 0.6704 - val_accuracy: 0.7366\n",
      "Epoch 16/100\n",
      "27/27 [==============================] - 97s 4s/step - loss: 0.4661 - accuracy: 0.8548 - val_loss: 0.6581 - val_accuracy: 0.7344\n",
      "Epoch 17/100\n",
      "27/27 [==============================] - 97s 4s/step - loss: 0.4393 - accuracy: 0.8665 - val_loss: 0.6638 - val_accuracy: 0.7455\n",
      "Epoch 18/100\n",
      "27/27 [==============================] - 97s 4s/step - loss: 0.4401 - accuracy: 0.8571 - val_loss: 0.6568 - val_accuracy: 0.7388\n",
      "Epoch 19/100\n",
      "27/27 [==============================] - 96s 4s/step - loss: 0.4302 - accuracy: 0.8724 - val_loss: 0.6544 - val_accuracy: 0.7455\n",
      "Epoch 20/100\n",
      "27/27 [==============================] - 97s 4s/step - loss: 0.4545 - accuracy: 0.8454 - val_loss: 0.6538 - val_accuracy: 0.7500\n",
      "Epoch 21/100\n",
      "27/27 [==============================] - 97s 4s/step - loss: 0.4125 - accuracy: 0.8677 - val_loss: 0.6529 - val_accuracy: 0.7433\n",
      "Epoch 22/100\n",
      "27/27 [==============================] - 97s 4s/step - loss: 0.4254 - accuracy: 0.8665 - val_loss: 0.6441 - val_accuracy: 0.7455\n",
      "Epoch 23/100\n",
      "27/27 [==============================] - 97s 4s/step - loss: 0.4126 - accuracy: 0.8589 - val_loss: 0.6550 - val_accuracy: 0.7455\n",
      "Epoch 24/100\n",
      "27/27 [==============================] - 97s 4s/step - loss: 0.4129 - accuracy: 0.8760 - val_loss: 0.6493 - val_accuracy: 0.7478\n",
      "Epoch 25/100\n",
      "27/27 [==============================] - 97s 4s/step - loss: 0.4141 - accuracy: 0.8677 - val_loss: 0.6455 - val_accuracy: 0.7500\n",
      "Epoch 26/100\n",
      "27/27 [==============================] - 97s 4s/step - loss: 0.3935 - accuracy: 0.8807 - val_loss: 0.6461 - val_accuracy: 0.7500\n",
      "Epoch 27/100\n",
      "27/27 [==============================] - 97s 4s/step - loss: 0.3915 - accuracy: 0.8807 - val_loss: 0.6452 - val_accuracy: 0.7522\n",
      "Epoch 28/100\n",
      "27/27 [==============================] - 97s 4s/step - loss: 0.3962 - accuracy: 0.8783 - val_loss: 0.6401 - val_accuracy: 0.7522\n",
      "Epoch 29/100\n",
      "27/27 [==============================] - 97s 4s/step - loss: 0.3917 - accuracy: 0.8762 - val_loss: 0.6439 - val_accuracy: 0.7567\n",
      "Epoch 30/100\n",
      "27/27 [==============================] - 97s 4s/step - loss: 0.3612 - accuracy: 0.8977 - val_loss: 0.6419 - val_accuracy: 0.7522\n",
      "Epoch 31/100\n",
      "27/27 [==============================] - 98s 4s/step - loss: 0.3704 - accuracy: 0.8854 - val_loss: 0.6303 - val_accuracy: 0.7545\n",
      "Epoch 32/100\n",
      "27/27 [==============================] - 97s 4s/step - loss: 0.3716 - accuracy: 0.8865 - val_loss: 0.6509 - val_accuracy: 0.7500\n",
      "Epoch 33/100\n",
      "27/27 [==============================] - 97s 4s/step - loss: 0.3771 - accuracy: 0.8854 - val_loss: 0.6318 - val_accuracy: 0.7522\n",
      "Epoch 34/100\n",
      "27/27 [==============================] - 97s 4s/step - loss: 0.3514 - accuracy: 0.9030 - val_loss: 0.6498 - val_accuracy: 0.7500\n",
      "Epoch 35/100\n",
      "27/27 [==============================] - 97s 4s/step - loss: 0.3588 - accuracy: 0.8883 - val_loss: 0.6342 - val_accuracy: 0.7567\n",
      "Epoch 36/100\n",
      "27/27 [==============================] - 97s 4s/step - loss: 0.3641 - accuracy: 0.8965 - val_loss: 0.6417 - val_accuracy: 0.7522\n",
      "Epoch 37/100\n",
      "27/27 [==============================] - 97s 4s/step - loss: 0.3403 - accuracy: 0.9012 - val_loss: 0.6284 - val_accuracy: 0.7478\n",
      "Epoch 38/100\n",
      "27/27 [==============================] - 97s 4s/step - loss: 0.3617 - accuracy: 0.8907 - val_loss: 0.6348 - val_accuracy: 0.7500\n",
      "Epoch 39/100\n",
      "27/27 [==============================] - 97s 4s/step - loss: 0.3345 - accuracy: 0.9024 - val_loss: 0.6391 - val_accuracy: 0.7500\n",
      "Epoch 40/100\n",
      "27/27 [==============================] - 97s 4s/step - loss: 0.3527 - accuracy: 0.9012 - val_loss: 0.6305 - val_accuracy: 0.7545\n",
      "Epoch 41/100\n",
      "27/27 [==============================] - 96s 4s/step - loss: 0.3205 - accuracy: 0.9130 - val_loss: 0.6447 - val_accuracy: 0.7500\n",
      "Epoch 42/100\n",
      "27/27 [==============================] - 97s 4s/step - loss: 0.3315 - accuracy: 0.9106 - val_loss: 0.6290 - val_accuracy: 0.7522\n",
      "Epoch 43/100\n",
      "27/27 [==============================] - 97s 4s/step - loss: 0.3446 - accuracy: 0.8924 - val_loss: 0.6187 - val_accuracy: 0.7522\n",
      "Epoch 44/100\n",
      "27/27 [==============================] - 97s 4s/step - loss: 0.3230 - accuracy: 0.9048 - val_loss: 0.6297 - val_accuracy: 0.7567\n",
      "Epoch 45/100\n",
      "27/27 [==============================] - 97s 4s/step - loss: 0.3300 - accuracy: 0.9071 - val_loss: 0.6334 - val_accuracy: 0.7567\n",
      "Epoch 46/100\n",
      "27/27 [==============================] - 97s 4s/step - loss: 0.3088 - accuracy: 0.9118 - val_loss: 0.6277 - val_accuracy: 0.7567\n",
      "Epoch 47/100\n",
      "27/27 [==============================] - 97s 4s/step - loss: 0.2995 - accuracy: 0.9183 - val_loss: 0.6341 - val_accuracy: 0.7500\n",
      "Epoch 48/100\n",
      "27/27 [==============================] - 97s 4s/step - loss: 0.3230 - accuracy: 0.9142 - val_loss: 0.6205 - val_accuracy: 0.7589\n",
      "Epoch 49/100\n",
      "27/27 [==============================] - 97s 4s/step - loss: 0.3054 - accuracy: 0.9177 - val_loss: 0.6389 - val_accuracy: 0.7522\n",
      "Epoch 50/100\n",
      "27/27 [==============================] - 97s 4s/step - loss: 0.2942 - accuracy: 0.9159 - val_loss: 0.6258 - val_accuracy: 0.7567\n",
      "Epoch 51/100\n",
      "27/27 [==============================] - 97s 4s/step - loss: 0.2866 - accuracy: 0.9177 - val_loss: 0.6270 - val_accuracy: 0.7522\n",
      "Epoch 52/100\n",
      "27/27 [==============================] - 97s 4s/step - loss: 0.2990 - accuracy: 0.9142 - val_loss: 0.6332 - val_accuracy: 0.7500\n",
      "Epoch 53/100\n",
      "27/27 [==============================] - 97s 4s/step - loss: 0.2937 - accuracy: 0.9177 - val_loss: 0.6198 - val_accuracy: 0.7545\n",
      "Epoch 54/100\n",
      "27/27 [==============================] - 97s 4s/step - loss: 0.2958 - accuracy: 0.9171 - val_loss: 0.6295 - val_accuracy: 0.7589\n",
      "Epoch 55/100\n",
      "27/27 [==============================] - 97s 4s/step - loss: 0.2950 - accuracy: 0.9177 - val_loss: 0.6362 - val_accuracy: 0.7589\n",
      "Epoch 56/100\n",
      "27/27 [==============================] - 97s 4s/step - loss: 0.2901 - accuracy: 0.9136 - val_loss: 0.6340 - val_accuracy: 0.7567\n",
      "Epoch 57/100\n",
      "27/27 [==============================] - 98s 4s/step - loss: 0.2815 - accuracy: 0.9213 - val_loss: 0.6310 - val_accuracy: 0.7589\n",
      "Epoch 58/100\n",
      "27/27 [==============================] - 97s 4s/step - loss: 0.2702 - accuracy: 0.9318 - val_loss: 0.6415 - val_accuracy: 0.7567\n"
     ]
    },
    {
     "name": "stdout",
     "output_type": "stream",
     "text": [
      "Epoch 59/100\n",
      "27/27 [==============================] - 97s 4s/step - loss: 0.2767 - accuracy: 0.9253 - val_loss: 0.6289 - val_accuracy: 0.7589\n",
      "Epoch 60/100\n",
      "27/27 [==============================] - 97s 4s/step - loss: 0.2685 - accuracy: 0.9318 - val_loss: 0.6310 - val_accuracy: 0.7634\n",
      "Epoch 61/100\n",
      "27/27 [==============================] - 97s 4s/step - loss: 0.2654 - accuracy: 0.9289 - val_loss: 0.6316 - val_accuracy: 0.7634\n",
      "Epoch 62/100\n",
      "27/27 [==============================] - 97s 4s/step - loss: 0.2639 - accuracy: 0.9271 - val_loss: 0.6262 - val_accuracy: 0.7634\n",
      "Epoch 63/100\n",
      "27/27 [==============================] - 97s 4s/step - loss: 0.2706 - accuracy: 0.9242 - val_loss: 0.6269 - val_accuracy: 0.7634\n",
      "Epoch 64/100\n",
      "27/27 [==============================] - 97s 4s/step - loss: 0.2573 - accuracy: 0.9300 - val_loss: 0.6184 - val_accuracy: 0.7612\n",
      "Epoch 65/100\n",
      "27/27 [==============================] - 97s 4s/step - loss: 0.2638 - accuracy: 0.9324 - val_loss: 0.6255 - val_accuracy: 0.7634\n",
      "Epoch 66/100\n",
      "27/27 [==============================] - 97s 4s/step - loss: 0.2415 - accuracy: 0.9371 - val_loss: 0.6271 - val_accuracy: 0.7612\n",
      "Epoch 67/100\n",
      "27/27 [==============================] - 97s 4s/step - loss: 0.2605 - accuracy: 0.9277 - val_loss: 0.6264 - val_accuracy: 0.7656\n",
      "Epoch 68/100\n",
      "27/27 [==============================] - 96s 4s/step - loss: 0.2437 - accuracy: 0.9394 - val_loss: 0.6290 - val_accuracy: 0.7634\n",
      "Epoch 69/100\n",
      "27/27 [==============================] - 96s 4s/step - loss: 0.2599 - accuracy: 0.9236 - val_loss: 0.6186 - val_accuracy: 0.7612\n",
      "Epoch 70/100\n",
      "27/27 [==============================] - 97s 4s/step - loss: 0.2385 - accuracy: 0.9377 - val_loss: 0.6247 - val_accuracy: 0.7612\n",
      "Epoch 71/100\n",
      "27/27 [==============================] - 97s 4s/step - loss: 0.2437 - accuracy: 0.9300 - val_loss: 0.6392 - val_accuracy: 0.7656\n",
      "Epoch 72/100\n",
      "27/27 [==============================] - 97s 4s/step - loss: 0.2421 - accuracy: 0.9371 - val_loss: 0.6332 - val_accuracy: 0.7656\n",
      "Epoch 73/100\n",
      "27/27 [==============================] - 98s 4s/step - loss: 0.2434 - accuracy: 0.9336 - val_loss: 0.6300 - val_accuracy: 0.7656\n",
      "Epoch 74/100\n",
      "27/27 [==============================] - 97s 4s/step - loss: 0.2384 - accuracy: 0.9359 - val_loss: 0.6156 - val_accuracy: 0.7656\n",
      "Epoch 75/100\n",
      "27/27 [==============================] - 96s 4s/step - loss: 0.2474 - accuracy: 0.9342 - val_loss: 0.6345 - val_accuracy: 0.7612\n",
      "Epoch 76/100\n",
      "27/27 [==============================] - 97s 4s/step - loss: 0.2303 - accuracy: 0.9453 - val_loss: 0.6274 - val_accuracy: 0.7656\n",
      "Epoch 77/100\n",
      "27/27 [==============================] - 97s 4s/step - loss: 0.2369 - accuracy: 0.9394 - val_loss: 0.6317 - val_accuracy: 0.7656\n",
      "Epoch 78/100\n",
      "27/27 [==============================] - 97s 4s/step - loss: 0.2132 - accuracy: 0.9530 - val_loss: 0.6314 - val_accuracy: 0.7679\n",
      "Epoch 79/100\n",
      "27/27 [==============================] - 97s 4s/step - loss: 0.2243 - accuracy: 0.9430 - val_loss: 0.6273 - val_accuracy: 0.7679\n",
      "Epoch 80/100\n",
      "27/27 [==============================] - 97s 4s/step - loss: 0.2081 - accuracy: 0.9453 - val_loss: 0.6289 - val_accuracy: 0.7656\n",
      "Epoch 81/100\n",
      "27/27 [==============================] - 97s 4s/step - loss: 0.2197 - accuracy: 0.9459 - val_loss: 0.6279 - val_accuracy: 0.7656\n",
      "Epoch 82/100\n",
      "27/27 [==============================] - 97s 4s/step - loss: 0.2290 - accuracy: 0.9436 - val_loss: 0.6194 - val_accuracy: 0.7679\n",
      "Epoch 83/100\n",
      "27/27 [==============================] - 97s 4s/step - loss: 0.2125 - accuracy: 0.9518 - val_loss: 0.6373 - val_accuracy: 0.7634\n",
      "Epoch 84/100\n",
      "27/27 [==============================] - 97s 4s/step - loss: 0.2034 - accuracy: 0.9465 - val_loss: 0.6313 - val_accuracy: 0.7656\n",
      "Epoch 85/100\n",
      "27/27 [==============================] - 97s 4s/step - loss: 0.2210 - accuracy: 0.9439 - val_loss: 0.6275 - val_accuracy: 0.7701\n",
      "Epoch 86/100\n",
      "27/27 [==============================] - 97s 4s/step - loss: 0.2073 - accuracy: 0.9500 - val_loss: 0.6284 - val_accuracy: 0.7679\n",
      "Epoch 87/100\n",
      "27/27 [==============================] - 97s 4s/step - loss: 0.2228 - accuracy: 0.9406 - val_loss: 0.6305 - val_accuracy: 0.7634\n",
      "Epoch 88/100\n",
      "27/27 [==============================] - 97s 4s/step - loss: 0.2107 - accuracy: 0.9524 - val_loss: 0.6337 - val_accuracy: 0.7679\n",
      "Epoch 89/100\n",
      "27/27 [==============================] - 97s 4s/step - loss: 0.1867 - accuracy: 0.9624 - val_loss: 0.6343 - val_accuracy: 0.7656\n",
      "Epoch 90/100\n",
      "27/27 [==============================] - 97s 4s/step - loss: 0.2063 - accuracy: 0.9489 - val_loss: 0.6449 - val_accuracy: 0.7656\n",
      "Epoch 91/100\n",
      "27/27 [==============================] - 97s 4s/step - loss: 0.2023 - accuracy: 0.9512 - val_loss: 0.6402 - val_accuracy: 0.7634\n",
      "Epoch 92/100\n",
      "27/27 [==============================] - 97s 4s/step - loss: 0.1842 - accuracy: 0.9600 - val_loss: 0.6382 - val_accuracy: 0.7634\n",
      "Epoch 93/100\n",
      "27/27 [==============================] - 95s 4s/step - loss: 0.1858 - accuracy: 0.9541 - val_loss: 0.6258 - val_accuracy: 0.7656\n",
      "Epoch 94/100\n",
      "27/27 [==============================] - 95s 4s/step - loss: 0.1958 - accuracy: 0.9471 - val_loss: 0.6341 - val_accuracy: 0.7634\n",
      "Epoch 95/100\n",
      "27/27 [==============================] - 95s 4s/step - loss: 0.1983 - accuracy: 0.9536 - val_loss: 0.6428 - val_accuracy: 0.7679\n",
      "Epoch 96/100\n",
      "27/27 [==============================] - 95s 4s/step - loss: 0.1946 - accuracy: 0.9577 - val_loss: 0.6267 - val_accuracy: 0.7701\n",
      "Epoch 97/100\n",
      "27/27 [==============================] - 95s 4s/step - loss: 0.1804 - accuracy: 0.9618 - val_loss: 0.6390 - val_accuracy: 0.7634\n",
      "Epoch 98/100\n",
      "27/27 [==============================] - 95s 4s/step - loss: 0.1975 - accuracy: 0.9612 - val_loss: 0.6375 - val_accuracy: 0.7679\n",
      "Epoch 99/100\n",
      "27/27 [==============================] - 95s 4s/step - loss: 0.1828 - accuracy: 0.9588 - val_loss: 0.6441 - val_accuracy: 0.7634\n",
      "Epoch 100/100\n",
      "27/27 [==============================] - 95s 4s/step - loss: 0.1813 - accuracy: 0.9565 - val_loss: 0.6421 - val_accuracy: 0.7634\n"
     ]
    },
    {
     "data": {
      "text/plain": [
       "<tensorflow.python.keras.callbacks.History at 0x7f46db4a59e8>"
      ]
     },
     "execution_count": 27,
     "metadata": {},
     "output_type": "execute_result"
    }
   ],
   "source": [
    "model.fit_generator(\n",
    "    train_generator,\n",
    "    steps_per_epoch=nb_train_samples // batch_size,\n",
    "    epochs=100,\n",
    "    validation_data=val_generator,\n",
    "    validation_steps=nb_validation_samples // batch_size,\n",
    "    shuffle=False)"
   ]
  },
  {
   "cell_type": "code",
   "execution_count": 103,
   "metadata": {},
   "outputs": [],
   "source": [
    "model.fit_generator?"
   ]
  },
  {
   "cell_type": "code",
   "execution_count": 28,
   "metadata": {},
   "outputs": [
    {
     "name": "stdout",
     "output_type": "stream",
     "text": [
      "Аккуратность на тестовых данных: 79.46%\n"
     ]
    }
   ],
   "source": [
    "scores = model.evaluate_generator(test_generator, nb_test_samples // batch_size)\n",
    "print(\"Аккуратность на тестовых данных: %.2f%%\" % (scores[1]*100))\n"
   ]
  },
  {
   "cell_type": "code",
   "execution_count": 137,
   "metadata": {},
   "outputs": [],
   "source": [
    "import numpy as np\n",
    "from PIL import Image\n",
    "from keras.preprocessing import image\n",
    "from keras.applications.vgg16 import preprocess_input, decode_predictions\n",
    "im = image.load_img(\"./цветок.jpg\", target_size=(150, 150))\n",
    "x = image.img_to_array(im)\n"
   ]
  },
  {
   "cell_type": "code",
   "execution_count": 138,
   "metadata": {},
   "outputs": [],
   "source": [
    "x = np.expand_dims(x, axis=0)\n",
    "x = preprocess_input(x)\n"
   ]
  },
  {
   "cell_type": "code",
   "execution_count": 139,
   "metadata": {},
   "outputs": [
    {
     "data": {
      "image/png": "[encoded data removed]",
      "text/plain": [
       "<PIL.Image.Image image mode=RGB size=150x150 at 0x7F46DB020438>"
      ]
     },
     "execution_count": 139,
     "metadata": {},
     "output_type": "execute_result"
    }
   ],
   "source": [
    "im"
   ]
  },
  {
   "cell_type": "code",
   "execution_count": 91,
   "metadata": {},
   "outputs": [
    {
     "data": {
      "text/plain": [
       "[0, 1, 2, 3]"
      ]
     },
     "execution_count": 91,
     "metadata": {},
     "output_type": "execute_result"
    }
   ],
   "source": [
    "def decode_preds(preds):\n",
    "    preds = [abs(1-el) for el in preds]\n",
    "    preds.sort()\n",
    "    return preds\n",
    "decode_preds([1, 4, 3, 2])\n"
   ]
  },
  {
   "cell_type": "code",
   "execution_count": 140,
   "metadata": {},
   "outputs": [
    {
     "name": "stdout",
     "output_type": "stream",
     "text": [
      "[array([1., 1., 1., 0., 1.], dtype=float32)]\n"
     ]
    },
    {
     "data": {
      "text/plain": [
       "{'дерево': 0, 'кошка': 1, 'собака': 2, 'цветок': 3, 'человек': 4}"
      ]
     },
     "execution_count": 140,
     "metadata": {},
     "output_type": "execute_result"
    }
   ],
   "source": [
    " preds = model.predict(x)\n",
    "print(decode_preds(preds))\n",
    "test_generator.class_indices"
   ]
  },
  {
   "cell_type": "code",
   "execution_count": 41,
   "metadata": {},
   "outputs": [
    {
     "ename": "ValueError",
     "evalue": "`decode_predictions` expects a batch of predictions (i.e. a 2D array of shape (samples, 1000)). Found array with shape: (1, 5)",
     "output_type": "error",
     "traceback": [
      "\u001b[0;31m---------------------------------------------------------------------------\u001b[0m",
      "\u001b[0;31mValueError\u001b[0m                                Traceback (most recent call last)",
      "\u001b[0;32m<ipython-input-41-c516e8e5f3d1>\u001b[0m in \u001b[0;36m<module>\u001b[0;34m\u001b[0m\n\u001b[0;32m----> 1\u001b[0;31m \u001b[0mprint\u001b[0m\u001b[0;34m(\u001b[0m\u001b[0;34m'Results: '\u001b[0m\u001b[0;34m,\u001b[0m \u001b[0mdecode_predictions\u001b[0m\u001b[0;34m(\u001b[0m\u001b[0mpreds\u001b[0m\u001b[0;34m,\u001b[0m \u001b[0mtop\u001b[0m\u001b[0;34m=\u001b[0m\u001b[0;36m3\u001b[0m\u001b[0;34m)\u001b[0m\u001b[0;34m[\u001b[0m\u001b[0;36m0\u001b[0m\u001b[0;34m]\u001b[0m\u001b[0;34m)\u001b[0m\u001b[0;34m\u001b[0m\u001b[0;34m\u001b[0m\u001b[0m\n\u001b[0m",
      "\u001b[0;32m~/anaconda3/lib/python3.7/site-packages/keras/applications/__init__.py\u001b[0m in \u001b[0;36mwrapper\u001b[0;34m(*args, **kwargs)\u001b[0m\n\u001b[1;32m     26\u001b[0m             \u001b[0mkwargs\u001b[0m\u001b[0;34m[\u001b[0m\u001b[0;34m'models'\u001b[0m\u001b[0;34m]\u001b[0m \u001b[0;34m=\u001b[0m \u001b[0mmodels\u001b[0m\u001b[0;34m\u001b[0m\u001b[0;34m\u001b[0m\u001b[0m\n\u001b[1;32m     27\u001b[0m             \u001b[0mkwargs\u001b[0m\u001b[0;34m[\u001b[0m\u001b[0;34m'utils'\u001b[0m\u001b[0;34m]\u001b[0m \u001b[0;34m=\u001b[0m \u001b[0mutils\u001b[0m\u001b[0;34m\u001b[0m\u001b[0;34m\u001b[0m\u001b[0m\n\u001b[0;32m---> 28\u001b[0;31m         \u001b[0;32mreturn\u001b[0m \u001b[0mbase_fun\u001b[0m\u001b[0;34m(\u001b[0m\u001b[0;34m*\u001b[0m\u001b[0margs\u001b[0m\u001b[0;34m,\u001b[0m \u001b[0;34m**\u001b[0m\u001b[0mkwargs\u001b[0m\u001b[0;34m)\u001b[0m\u001b[0;34m\u001b[0m\u001b[0;34m\u001b[0m\u001b[0m\n\u001b[0m\u001b[1;32m     29\u001b[0m \u001b[0;34m\u001b[0m\u001b[0m\n\u001b[1;32m     30\u001b[0m     \u001b[0;32mreturn\u001b[0m \u001b[0mwrapper\u001b[0m\u001b[0;34m\u001b[0m\u001b[0;34m\u001b[0m\u001b[0m\n",
      "\u001b[0;32m~/anaconda3/lib/python3.7/site-packages/keras/applications/vgg16.py\u001b[0m in \u001b[0;36mdecode_predictions\u001b[0;34m(*args, **kwargs)\u001b[0m\n\u001b[1;32m     14\u001b[0m \u001b[0;34m@\u001b[0m\u001b[0mkeras_modules_injection\u001b[0m\u001b[0;34m\u001b[0m\u001b[0;34m\u001b[0m\u001b[0m\n\u001b[1;32m     15\u001b[0m \u001b[0;32mdef\u001b[0m \u001b[0mdecode_predictions\u001b[0m\u001b[0;34m(\u001b[0m\u001b[0;34m*\u001b[0m\u001b[0margs\u001b[0m\u001b[0;34m,\u001b[0m \u001b[0;34m**\u001b[0m\u001b[0mkwargs\u001b[0m\u001b[0;34m)\u001b[0m\u001b[0;34m:\u001b[0m\u001b[0;34m\u001b[0m\u001b[0;34m\u001b[0m\u001b[0m\n\u001b[0;32m---> 16\u001b[0;31m     \u001b[0;32mreturn\u001b[0m \u001b[0mvgg16\u001b[0m\u001b[0;34m.\u001b[0m\u001b[0mdecode_predictions\u001b[0m\u001b[0;34m(\u001b[0m\u001b[0;34m*\u001b[0m\u001b[0margs\u001b[0m\u001b[0;34m,\u001b[0m \u001b[0;34m**\u001b[0m\u001b[0mkwargs\u001b[0m\u001b[0;34m)\u001b[0m\u001b[0;34m\u001b[0m\u001b[0;34m\u001b[0m\u001b[0m\n\u001b[0m\u001b[1;32m     17\u001b[0m \u001b[0;34m\u001b[0m\u001b[0m\n\u001b[1;32m     18\u001b[0m \u001b[0;34m\u001b[0m\u001b[0m\n",
      "\u001b[0;32m~/anaconda3/lib/python3.7/site-packages/keras_applications/imagenet_utils.py\u001b[0m in \u001b[0;36mdecode_predictions\u001b[0;34m(preds, top, **kwargs)\u001b[0m\n\u001b[1;32m    220\u001b[0m                          \u001b[0;34m'a batch of predictions '\u001b[0m\u001b[0;34m\u001b[0m\u001b[0;34m\u001b[0m\u001b[0m\n\u001b[1;32m    221\u001b[0m                          \u001b[0;34m'(i.e. a 2D array of shape (samples, 1000)). '\u001b[0m\u001b[0;34m\u001b[0m\u001b[0;34m\u001b[0m\u001b[0m\n\u001b[0;32m--> 222\u001b[0;31m                          'Found array with shape: ' + str(preds.shape))\n\u001b[0m\u001b[1;32m    223\u001b[0m     \u001b[0;32mif\u001b[0m \u001b[0mCLASS_INDEX\u001b[0m \u001b[0;32mis\u001b[0m \u001b[0;32mNone\u001b[0m\u001b[0;34m:\u001b[0m\u001b[0;34m\u001b[0m\u001b[0;34m\u001b[0m\u001b[0m\n\u001b[1;32m    224\u001b[0m         fpath = keras_utils.get_file(\n",
      "\u001b[0;31mValueError\u001b[0m: `decode_predictions` expects a batch of predictions (i.e. a 2D array of shape (samples, 1000)). Found array with shape: (1, 5)"
     ]
    }
   ],
   "source": [
    "print('Results: ', decode_predictions(preds, top=3)[0])"
   ]
  },
  {
   "cell_type": "code",
   "execution_count": 141,
   "metadata": {},
   "outputs": [],
   "source": [
    "from sklearn.metrics import precision_score, recall_score, confusion_matrix"
   ]
  },
  {
   "cell_type": "code",
   "execution_count": 147,
   "metadata": {},
   "outputs": [
    {
     "data": {
      "text/plain": [
       "array([[ 9, 18,  4, 23,  7],\n",
       "       [ 9, 31,  3, 39, 25],\n",
       "       [12, 21,  4, 22,  9],\n",
       "       [18, 49,  5, 52, 24],\n",
       "       [12, 31,  7, 36, 15]])"
      ]
     },
     "execution_count": 147,
     "metadata": {},
     "output_type": "execute_result"
    }
   ],
   "source": [
    "Y_pred = model.predict_generator(val_generator, nb_test_samples // batch_size+1)\n",
    "y_pred = np.argmax(Y_pred, axis=1)\n",
    "confusion_matrix(val_generator.classes, y_pred)"
   ]
  },
  {
   "cell_type": "code",
   "execution_count": 148,
   "metadata": {},
   "outputs": [
    {
     "data": {
      "text/plain": [
       "array([[0.09, 0.18, 0.04, 0.23, 0.07],\n",
       "       [0.09, 0.31, 0.03, 0.39, 0.25],\n",
       "       [0.12, 0.21, 0.04, 0.22, 0.09],\n",
       "       [0.18, 0.49, 0.05, 0.52, 0.24],\n",
       "       [0.12, 0.31, 0.07, 0.36, 0.15]])"
      ]
     },
     "execution_count": 148,
     "metadata": {},
     "output_type": "execute_result"
    }
   ],
   "source": [
    "confusion_matrix(val_generator.classes, y_pred)/100"
   ]
  },
  {
   "cell_type": "code",
   "execution_count": 149,
   "metadata": {},
   "outputs": [],
   "source": [
    "from matplotlib import pyplot as plt\n",
    "%matplotlib inline"
   ]
  },
  {
   "cell_type": "code",
   "execution_count": 166,
   "metadata": {},
   "outputs": [],
   "source": [
    "quality = np.array([0.2164,\n",
    "                    0.3169,\n",
    "                    0.3498,\n",
    "                    0.3956,\n",
    "                    0.4303,\n",
    "                    0.5179,\n",
    "                    0.5426,\n",
    "                    0.5820,\n",
    "                    0.6285,\n",
    "                    0.6696])\n",
    "epoches = range(1, 11)"
   ]
  },
  {
   "cell_type": "code",
   "execution_count": 172,
   "metadata": {},
   "outputs": [
    {
     "data": {
      "image/png": "[encoded data removed]",
      "text/plain": [
       "<Figure size 432x288 with 1 Axes>"
      ]
     },
     "metadata": {
      "needs_background": "light"
     },
     "output_type": "display_data"
    }
   ],
   "source": [
    "from matplotlib.pyplot import subplots, show\n",
    "fig, ax = subplots()\n",
    "ax.plot(epoches, quality)\n",
    "ax.set_xlabel(\"Эпоха\")\n",
    "ax.set_ylabel(\"Точность\")\n",
    "show()"
   ]
  },
  {
   "cell_type": "code",
   "execution_count": 173,
   "metadata": {},
   "outputs": [],
   "source": [
    "quality = np.array([0.2303, \n",
    "                    0.3028,\n",
    "                    0.3610,\n",
    "                    0.4139,\n",
    "                    0.4421,\n",
    "                    0.5026,\n",
    "                    0.5414,\n",
    "                    0.5626,\n",
    "                    0.5979,\n",
    "                    0.6373,\n",
    "                    0.6443,\n",
    "                    0.6573,\n",
    "                    0.6784,\n",
    "                    0.7137,\n",
    "                    0.6872,\n",
    "                    0.7025,\n",
    "                    0.7449,\n",
    "                    0.7225,\n",
    "                    0.7443,\n",
    "                    0.7449,\n",
    "                    0.7496,\n",
    "                    0.7584,\n",
    "                    0.7707,\n",
    "                    0.7801,\n",
    "                    0.7825,\n",
    "                    0.7884,\n",
    "                    0.7954,\n",
    "                    0.7907,\n",
    "                    0.7934,\n",
    "                    0.8095])\n",
    "epoches = range(1, 31)"
   ]
  },
  {
   "cell_type": "code",
   "execution_count": 174,
   "metadata": {},
   "outputs": [
    {
     "data": {
      "image/png": "[encoded data removed]",
      "text/plain": [
       "<Figure size 432x288 with 1 Axes>"
      ]
     },
     "metadata": {
      "needs_background": "light"
     },
     "output_type": "display_data"
    }
   ],
   "source": [
    "from matplotlib.pyplot import subplots, show\n",
    "fig, ax = subplots()\n",
    "ax.plot(epoches, quality)\n",
    "ax.set_xlabel(\"Эпоха\")\n",
    "ax.set_ylabel(\"Точность\")\n",
    "show()"
   ]
  },
  {
   "cell_type": "code",
   "execution_count": 182,
   "metadata": {},
   "outputs": [],
   "source": [
    "import os\n",
    "lst = os.listdir(\"./Imagenet/\")"
   ]
  },
  {
   "cell_type": "code",
   "execution_count": 189,
   "metadata": {},
   "outputs": [
    {
     "name": "stdout",
     "output_type": "stream",
     "text": [
      "{'дерево': 0, 'кошка': 1, 'собака': 2, 'цветок': 3, 'человек': 4}\n",
      "du4.jpg\n",
      "[array([1., 1., 1., 1., 0.], dtype=float32)]\n",
      "tr3.jpg\n",
      "[array([1., 1., 1., 1., 0.], dtype=float32)]\n",
      "vinc5.jpg\n",
      "[array([1.        , 1.        , 0.23963815, 1.        , 0.        ],\n",
      "      dtype=float32)]\n",
      "se4.jpg\n",
      "[array([1.       , 1.       , 0.9952925, 1.       , 1.       ],\n",
      "      dtype=float32)]\n",
      "du1.jpg\n",
      "[array([1.0000000e+00, 1.0000000e+00, 1.0000000e+00, 1.0000000e+00,\n",
      "       2.3841858e-07], dtype=float32)]\n",
      "pi5.jpg\n",
      "[array([1.       , 1.       , 0.9999999, 1.       , 1.       ],\n",
      "      dtype=float32)]\n",
      "se5.jpg\n",
      "[array([1., 1., 1., 1., 1.], dtype=float32)]\n",
      "du2.jpg\n",
      "[array([1., 1., 1., 1., 0.], dtype=float32)]\n",
      "bo2.jpg\n",
      "[array([1., 1., 1., 1., 0.], dtype=float32)]\n",
      "vinc4.jpg\n",
      "[array([1., 1., 1., 1., 0.], dtype=float32)]\n",
      "vinc1.jpg\n",
      "[array([1., 1., 1., 1., 0.], dtype=float32)]\n",
      "raf4.jpg\n",
      "[array([1., 1., 1., 1., 0.], dtype=float32)]\n",
      "tic1.jpg\n",
      "[array([1., 1., 1., 1., 0.], dtype=float32)]\n",
      "du5.JPG\n",
      "[array([1., 1., 1., 1., 0.], dtype=float32)]\n",
      "tr1.jpg\n",
      "[array([1., 1., 1., 1., 0.], dtype=float32)]\n",
      "tic3.jpg\n",
      "[array([1., 1., 1., 1., 0.], dtype=float32)]\n",
      "bo5.jpg\n",
      "[array([1.0000000e+00, 1.0000000e+00, 1.0000000e+00, 1.0000000e+00,\n",
      "       1.2993813e-05], dtype=float32)]\n",
      "re2.jpg\n",
      "[array([1.        , 1.        , 1.        , 1.        , 0.99999994],\n",
      "      dtype=float32)]\n",
      "se3.jpg\n",
      "[array([1.       , 1.       , 1.       , 1.       , 0.9999687],\n",
      "      dtype=float32)]\n",
      "bo1.jpg\n",
      "[array([1., 1., 1., 1., 1.], dtype=float32)]\n",
      "se1.jpg\n",
      "[array([1.       , 1.       , 1.       , 1.       , 0.9999669],\n",
      "      dtype=float32)]\n",
      "raf1.jpg\n",
      "[array([1., 1., 1., 1., 0.], dtype=float32)]\n",
      "pi1.jpg\n",
      "[array([1., 0., 1., 1., 1.], dtype=float32)]\n",
      "se2.jpg\n",
      "[array([1., 1., 1., 1., 0.], dtype=float32)]\n",
      "mo3.jpg\n",
      "[array([1., 1., 1., 1., 0.], dtype=float32)]\n",
      "tr5.jpg\n",
      "[array([1., 1., 1., 1., 0.], dtype=float32)]\n",
      "mo5.jpg\n",
      "[array([1., 1., 1., 1., 1.], dtype=float32)]\n",
      "vinc3.jpg\n",
      "[array([1., 1., 1., 1., 0.], dtype=float32)]\n",
      "re3.jpg\n",
      "[array([1.        , 1.        , 1.        , 1.        , 0.99999976],\n",
      "      dtype=float32)]\n",
      "tr2.jpg\n",
      "[array([1., 1., 1., 1., 0.], dtype=float32)]\n",
      "pi2.jpg\n",
      "[array([1., 1., 1., 1., 1.], dtype=float32)]\n",
      "tic2.jpg\n",
      "[array([1., 1., 1., 1., 0.], dtype=float32)]\n",
      "bo4.jpg\n",
      "[array([1., 1., 1., 1., 0.], dtype=float32)]\n",
      "mo2.jpg\n",
      "[array([1., 1., 1., 1., 1.], dtype=float32)]\n",
      "tic5.jpg\n",
      "[array([1.0000000e+00, 1.0000000e+00, 1.0000000e+00, 1.0000000e+00,\n",
      "       4.4107437e-06], dtype=float32)]\n",
      "raf3.jpg\n",
      "[array([1., 1., 1., 1., 0.], dtype=float32)]\n",
      "raf5.jpg\n",
      "[array([1., 1., 1., 1., 0.], dtype=float32)]\n",
      "re4.jpg\n",
      "[array([1., 1., 1., 1., 0.], dtype=float32)]\n",
      "pi4.png\n",
      "[array([1., 1., 1., 1., 1.], dtype=float32)]\n",
      "mo4.jpg\n",
      "[array([1.000000e+00, 1.000000e+00, 1.000000e+00, 1.000000e+00,\n",
      "       4.683733e-04], dtype=float32)]\n",
      "re5.jpg\n",
      "[array([1.        , 1.        , 1.        , 1.        , 0.00866354],\n",
      "      dtype=float32)]\n",
      "bo3.jpg\n",
      "[array([1., 1., 1., 1., 1.], dtype=float32)]\n",
      "tr4.jpg\n",
      "[array([1., 1., 1., 1., 0.], dtype=float32)]\n",
      "re1.jpg\n",
      "[array([1., 1., 1., 1., 0.], dtype=float32)]\n",
      "raf2.jpg\n",
      "[array([1., 1., 1., 1., 0.], dtype=float32)]\n",
      "tic4.jpg\n",
      "[array([1., 1., 1., 1., 0.], dtype=float32)]\n",
      "mo1.jpg\n",
      "[array([1., 1., 1., 1., 1.], dtype=float32)]\n",
      "pi3.jpg\n",
      "[array([1.       , 0.0022226, 1.       , 1.       , 1.       ],\n",
      "      dtype=float32)]\n",
      "du3.jpg\n",
      "[array([1.        , 1.        , 1.        , 1.        , 0.00312185],\n",
      "      dtype=float32)]\n",
      "vinc2.jpg\n",
      "[array([1., 1., 1., 1., 0.], dtype=float32)]\n"
     ]
    }
   ],
   "source": [
    "print(test_generator.class_indices)\n",
    "for i in lst:\n",
    "    try:\n",
    "        im = image.load_img(\"./Imagenet/{}\".format(i), target_size=(150, 150))\n",
    "        x = image.img_to_array(im)\n",
    "        x = np.expand_dims(x, axis=0)\n",
    "        x = preprocess_input(x)\n",
    "        preds = model.predict(x)\n",
    "        print(i)\n",
    "        print(decode_preds(preds))\n",
    "    except:\n",
    "        continue\n",
    "\n"
   ]
  },
  {
   "cell_type": "code",
   "execution_count": 195,
   "metadata": {},
   "outputs": [
    {
     "name": "stdout",
     "output_type": "stream",
     "text": [
      "12\n",
      "{'дерево': 0, 'кошка': 1, 'собака': 2, 'цветок': 3, 'человек': 4}\n",
      "4fe6518cf3.jpg\n",
      "[array([1.       , 0.9429571, 1.       , 1.       , 1.       ],\n",
      "      dtype=float32)]\n",
      "491491b192922d19a9653f99ce09742b.png\n",
      "[array([1., 0., 1., 1., 1.], dtype=float32)]\n",
      "5317bf0f03e6981dddff04f7496a9246--le-chat-furry-art.jpg\n",
      "[array([1.        , 0.00154293, 1.        , 1.        , 1.        ],\n",
      "      dtype=float32)]\n",
      "x_2fa22804.jpg\n",
      "[array([1., 0., 1., 1., 1.], dtype=float32)]\n",
      "10324476_KotVeynObschaya6.jpg\n",
      "[array([1.       , 0.9999811, 0.       , 1.       , 1.       ],\n",
      "      dtype=float32)]\n",
      "34272-preview.jpg\n",
      "[array([1., 0., 1., 1., 1.], dtype=float32)]\n",
      "267b2a9a2e75.jpg\n",
      "[array([1., 0., 1., 1., 1.], dtype=float32)]\n",
      "1378064451_1297005603.jpg\n",
      "[array([0.99999994, 0.77399474, 1.        , 1.        , 1.        ],\n",
      "      dtype=float32)]\n",
      "thumb_1455.jpg\n",
      "[array([1.       , 0.4015305, 1.       , 1.       , 1.       ],\n",
      "      dtype=float32)]\n",
      "7-1.jpg\n",
      "[array([1., 0., 1., 1., 1.], dtype=float32)]\n",
      "09da472c-5201-4410-a592-0e074e0cd6a7.jpg\n",
      "[array([1., 1., 1., 1., 1.], dtype=float32)]\n",
      "13adefc0e79a338cf2bf94e9532efeba--vintage-cat-cat-prints.jpg\n",
      "[array([1., 0., 1., 1., 1.], dtype=float32)]\n"
     ]
    }
   ],
   "source": [
    "lst = os.listdir(\"./Cats\")\n",
    "print(len(lst))\n",
    "print(test_generator.class_indices)\n",
    "for i in lst:\n",
    "    try:\n",
    "        im = image.load_img(\"./Cats/{}\".format(i), target_size=(150, 150))\n",
    "        x = image.img_to_array(im)\n",
    "        x = np.expand_dims(x, axis=0)\n",
    "        x = preprocess_input(x)\n",
    "        preds = model.predict(x)\n",
    "        print(i)\n",
    "        print(decode_preds(preds))\n",
    "        print('Predicted:', decode_predictions(preds, top=3)[0])\n",
    "    except:\n",
    "        continue\n"
   ]
  },
  {
   "cell_type": "code",
   "execution_count": 194,
   "metadata": {},
   "outputs": [
    {
     "name": "stderr",
     "output_type": "stream",
     "text": [
      "WARNING: Logging before flag parsing goes to stderr.\n",
      "W0605 09:52:35.077987 139948431079232 network.py:1410] This model was compiled with a Keras optimizer (<tensorflow.python.keras.optimizers.Adam object at 0x7f4804507278>) but is being saved in TensorFlow format with `save_weights`. The model's weights will be saved, but unlike with TensorFlow optimizers in the TensorFlow format the optimizer's state will not be saved.\n",
      "\n",
      "Consider using a TensorFlow optimizer from `tf.train`.\n"
     ]
    }
   ],
   "source": [
    "model.save_weights(\"./Weights_dir/\", overwrite=False)"
   ]
  },
  {
   "cell_type": "code",
   "execution_count": 198,
   "metadata": {},
   "outputs": [
    {
     "name": "stdout",
     "output_type": "stream",
     "text": [
      "[[7.8186824e-20 5.7042886e-02 3.2365769e-27 1.2563800e-35 0.0000000e+00]]\n"
     ]
    }
   ],
   "source": [
    "im = image.load_img(\"./Cats/4fe6518cf3.jpg\".format(i), target_size=(150, 150))\n",
    "x = image.img_to_array(im)\n",
    "x = np.expand_dims(x, axis=0)\n",
    "x = preprocess_input(x)\n",
    "preds = model.predict(x)\n",
    "print(preds)\n",
    "#print('Predicted:', decode_predictions(preds, top=3)[0])"
   ]
  },
  {
   "cell_type": "code",
   "execution_count": null,
   "metadata": {},
   "outputs": [],
   "source": []
  }
 ],
 "metadata": {
  "kernelspec": {
   "display_name": "Python 3",
   "language": "python",
   "name": "python3"
  },
  "language_info": {
   "codemirror_mode": {
    "name": "ipython",
    "version": 3
   },
   "file_extension": ".py",
   "mimetype": "text/x-python",
   "name": "python",
   "nbconvert_exporter": "python",
   "pygments_lexer": "ipython3",
   "version": "3.7.1"
  }
 },
 "nbformat": 4,
 "nbformat_minor": 2
}
